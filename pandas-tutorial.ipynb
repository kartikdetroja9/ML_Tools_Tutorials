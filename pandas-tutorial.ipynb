{
 "cells": [
  {
   "cell_type": "markdown",
   "id": "b8f14343",
   "metadata": {
    "papermill": {
     "duration": 0.005268,
     "end_time": "2023-08-29T05:58:23.385167",
     "exception": false,
     "start_time": "2023-08-29T05:58:23.379899",
     "status": "completed"
    },
    "tags": []
   },
   "source": [
    "![](https://upload.wikimedia.org/wikipedia/commons/thumb/e/ed/Pandas_logo.svg/2560px-Pandas_logo.svg.png)\n",
    "\n",
    "# pandas Tutorial\n"
   ]
  },
  {
   "cell_type": "markdown",
   "id": "bcec036e",
   "metadata": {
    "papermill": {
     "duration": 0.004568,
     "end_time": "2023-08-29T05:58:23.394830",
     "exception": false,
     "start_time": "2023-08-29T05:58:23.390262",
     "status": "completed"
    },
    "tags": []
   },
   "source": [
    "## Content:\n",
    "1. [Introduction to pandas](#introduction_to_pandas)\n",
    "2. [The Basics of pandas](#basics_of_pandas)\n",
    "3. [pandas Series](#pandas_series)\n",
    "    * [Creating pandas series](#creating_series)\n",
    "    * [Accessing pandas series](#accessing_series)\n",
    "4. [pandas Dataframes](#pandas_dataframes)\n",
    "    * [Creating pandas dataframes](#creating_dataframes)\n",
    "    * [Accessing pandas dataframes](#accessing_dataframes)\n",
    "    "
   ]
  },
  {
   "cell_type": "markdown",
   "id": "f1e58b5e",
   "metadata": {
    "_cell_guid": "b1076dfc-b9ad-4769-8c92-a6c4dae69d19",
    "_uuid": "8f2839f25d086af736a60e9eeb907d3b93b6e0e5",
    "execution": {
     "iopub.execute_input": "2023-08-25T06:28:39.140552Z",
     "iopub.status.busy": "2023-08-25T06:28:39.140112Z",
     "iopub.status.idle": "2023-08-25T06:28:39.179762Z",
     "shell.execute_reply": "2023-08-25T06:28:39.178533Z",
     "shell.execute_reply.started": "2023-08-25T06:28:39.140514Z"
    },
    "papermill": {
     "duration": 0.00438,
     "end_time": "2023-08-29T05:58:23.404046",
     "exception": false,
     "start_time": "2023-08-29T05:58:23.399666",
     "status": "completed"
    },
    "tags": []
   },
   "source": [
    "<a id=\"introduction_to_pandas\"></a> <br>\n",
    "# Introduction to Pandas\n",
    "Pandas is anpen-source BSD-licensed library built on top of NumPy and Python that provides high-performance easy-to-use data structures and data analysis tools.\n",
    "\n",
    "Pandas has been one of the most commonly used tools for Data Science and Machine learning requires, which is used for data cleaning and analysis. Here, Pandas is the best tool for handling this real-world messy data. \n",
    "\n",
    "### Features of Pandas\n",
    "* Provides tools for loading data from different file formats into in-memory data objects.\n",
    "* Represents the data in tabular form.\n",
    "* Label-based Slicing, Indexing, and Subsetting can be performed on large datasets.\n",
    "* Merges and joins two datasets easily.\n",
    "* Pivoting and reshaping data sets.\n",
    "* Easy handling of missing data (represented as NaN) in both floating point and non-floating point data.\n",
    "* Size mutability: DataFrame and higher-dimensional object columns can be added and deleted.\n",
    "* Provides multiple features of time-series."
   ]
  },
  {
   "cell_type": "markdown",
   "id": "07ab2e65",
   "metadata": {
    "papermill": {
     "duration": 0.004343,
     "end_time": "2023-08-29T05:58:23.413046",
     "exception": false,
     "start_time": "2023-08-29T05:58:23.408703",
     "status": "completed"
    },
    "tags": []
   },
   "source": [
    "<a id=\"basics_of_pandas\"></a> <br>\n",
    "# The Basics to Pandas\n",
    "\n",
    "Pandas pacage can be imported as below:"
   ]
  },
  {
   "cell_type": "code",
   "execution_count": 1,
   "id": "80f67f5a",
   "metadata": {
    "execution": {
     "iopub.execute_input": "2023-08-29T05:58:23.424137Z",
     "iopub.status.busy": "2023-08-29T05:58:23.423745Z",
     "iopub.status.idle": "2023-08-29T05:58:23.433225Z",
     "shell.execute_reply": "2023-08-29T05:58:23.432425Z"
    },
    "papermill": {
     "duration": 0.017467,
     "end_time": "2023-08-29T05:58:23.435297",
     "exception": false,
     "start_time": "2023-08-29T05:58:23.417830",
     "status": "completed"
    },
    "tags": []
   },
   "outputs": [],
   "source": [
    "import pandas as pd   # import Pandas\n",
    "import numpy as np    # import NumPy"
   ]
  },
  {
   "cell_type": "markdown",
   "id": "151e850d",
   "metadata": {
    "papermill": {
     "duration": 0.005077,
     "end_time": "2023-08-29T05:58:23.445221",
     "exception": false,
     "start_time": "2023-08-29T05:58:23.440144",
     "status": "completed"
    },
    "tags": []
   },
   "source": [
    "***NumPy*** and ***Pandas*** go hand-in-hand, as much of pandas is built on NumPy. It is, therefore, very convenient to import NumPy and put it in a ***np*** namespace. Likewise, pandas is imported and referenced with a ***pd***."
   ]
  },
  {
   "cell_type": "markdown",
   "id": "3f56342c",
   "metadata": {
    "papermill": {
     "duration": 0.004484,
     "end_time": "2023-08-29T05:58:23.454504",
     "exception": false,
     "start_time": "2023-08-29T05:58:23.450020",
     "status": "completed"
    },
    "tags": []
   },
   "source": [
    "<a id=\"primary_pandas_objects\"></a> <br>\n",
    "### Primary pandas objects\n",
    "\n",
    "Pandas framework provides two primary objects \n",
    "* ***Series***\n",
    "* ***DataFrame***\n",
    "\n",
    "\n",
    "<a id=\"pandas_series\"></a> <br>\n",
    "# pandas Series\n",
    "The base data structure of pandas is the Series object, which is designed to operate\n",
    "similar to a NumPy array but also adds index capabilities.\n",
    "\n",
    "Series is a one-dimensional labeled array capable of holding any data type (integers, strings, floating point numbers, Python objects, etc.). The axis labels are collectively  referred to as the index. \n",
    "\n",
    "<a id=\"creating_series\"></a> <br>\n",
    "### Creating pandas Series\n",
    "The basic method to create a Series is to call:\n",
    "\n",
    "> ***s = pd.Series(data, index=index)***\n",
    "\n",
    "Here, *data* can be many different things:\n",
    "* an ndarray\n",
    "* a Python dict\n",
    "* a scalar value (like 5)\n",
    "\n",
    "#### From ndarray"
   ]
  },
  {
   "cell_type": "code",
   "execution_count": 2,
   "id": "25f06f66",
   "metadata": {
    "execution": {
     "iopub.execute_input": "2023-08-29T05:58:23.466062Z",
     "iopub.status.busy": "2023-08-29T05:58:23.465447Z",
     "iopub.status.idle": "2023-08-29T05:58:23.474602Z",
     "shell.execute_reply": "2023-08-29T05:58:23.473354Z"
    },
    "papermill": {
     "duration": 0.017687,
     "end_time": "2023-08-29T05:58:23.476909",
     "exception": false,
     "start_time": "2023-08-29T05:58:23.459222",
     "status": "completed"
    },
    "tags": []
   },
   "outputs": [
    {
     "name": "stdout",
     "output_type": "stream",
     "text": [
      "0    1\n",
      "1    2\n",
      "2    3\n",
      "3    4\n",
      "dtype: int64\n"
     ]
    }
   ],
   "source": [
    "# creating series from Python array\n",
    "s = pd.Series([1, 2, 3, 4])\n",
    "print(s)"
   ]
  },
  {
   "cell_type": "markdown",
   "id": "3b71b75d",
   "metadata": {
    "papermill": {
     "duration": 0.004546,
     "end_time": "2023-08-29T05:58:23.486359",
     "exception": false,
     "start_time": "2023-08-29T05:58:23.481813",
     "status": "completed"
    },
    "tags": []
   },
   "source": [
    "If data is an ndarray, index must be the same length as data. If no index is passed, one will be created having values [0, ..., len(data) - 1]."
   ]
  },
  {
   "cell_type": "code",
   "execution_count": 3,
   "id": "fbe5e20e",
   "metadata": {
    "execution": {
     "iopub.execute_input": "2023-08-29T05:58:23.499193Z",
     "iopub.status.busy": "2023-08-29T05:58:23.498460Z",
     "iopub.status.idle": "2023-08-29T05:58:23.506129Z",
     "shell.execute_reply": "2023-08-29T05:58:23.504762Z"
    },
    "papermill": {
     "duration": 0.016,
     "end_time": "2023-08-29T05:58:23.508343",
     "exception": false,
     "start_time": "2023-08-29T05:58:23.492343",
     "status": "completed"
    },
    "tags": []
   },
   "outputs": [
    {
     "name": "stdout",
     "output_type": "stream",
     "text": [
      "0   -1.295687\n",
      "1   -1.013091\n",
      "2   -2.137665\n",
      "3    0.115342\n",
      "4    1.850596\n",
      "dtype: float64\n"
     ]
    }
   ],
   "source": [
    "# creating series from ndarray of random numbers\n",
    "s = pd.Series(np.random.randn(5))\n",
    "print(s)"
   ]
  },
  {
   "cell_type": "code",
   "execution_count": 4,
   "id": "3696e475",
   "metadata": {
    "execution": {
     "iopub.execute_input": "2023-08-29T05:58:23.520002Z",
     "iopub.status.busy": "2023-08-29T05:58:23.519625Z",
     "iopub.status.idle": "2023-08-29T05:58:23.527959Z",
     "shell.execute_reply": "2023-08-29T05:58:23.526852Z"
    },
    "papermill": {
     "duration": 0.017208,
     "end_time": "2023-08-29T05:58:23.530659",
     "exception": false,
     "start_time": "2023-08-29T05:58:23.513451",
     "status": "completed"
    },
    "tags": []
   },
   "outputs": [
    {
     "name": "stdout",
     "output_type": "stream",
     "text": [
      "a   -0.543201\n",
      "b    0.808219\n",
      "c   -0.046680\n",
      "d   -0.600156\n",
      "e   -1.039131\n",
      "dtype: float64\n"
     ]
    }
   ],
   "source": [
    "# generating series from ndarray of random numbers with string indices\n",
    "s = pd.Series(np.random.randn(5), index=[\"a\", \"b\", \"c\", \"d\", \"e\"])\n",
    "print(s)"
   ]
  },
  {
   "cell_type": "markdown",
   "id": "11a60345",
   "metadata": {
    "papermill": {
     "duration": 0.004709,
     "end_time": "2023-08-29T05:58:23.540540",
     "exception": false,
     "start_time": "2023-08-29T05:58:23.535831",
     "status": "completed"
    },
    "tags": []
   },
   "source": [
    "#### From Dictionary"
   ]
  },
  {
   "cell_type": "code",
   "execution_count": 5,
   "id": "776216c9",
   "metadata": {
    "execution": {
     "iopub.execute_input": "2023-08-29T05:58:23.552430Z",
     "iopub.status.busy": "2023-08-29T05:58:23.551598Z",
     "iopub.status.idle": "2023-08-29T05:58:23.558846Z",
     "shell.execute_reply": "2023-08-29T05:58:23.557432Z"
    },
    "papermill": {
     "duration": 0.015625,
     "end_time": "2023-08-29T05:58:23.561099",
     "exception": false,
     "start_time": "2023-08-29T05:58:23.545474",
     "status": "completed"
    },
    "tags": []
   },
   "outputs": [
    {
     "name": "stdout",
     "output_type": "stream",
     "text": [
      "b    1\n",
      "a    0\n",
      "c    2\n",
      "dtype: int64\n"
     ]
    }
   ],
   "source": [
    "# creating series from a dictionary\n",
    "d = {\"b\": 1, \"a\": 0, \"c\": 2}\n",
    "s = pd.Series(d)\n",
    "print(s)"
   ]
  },
  {
   "cell_type": "code",
   "execution_count": 6,
   "id": "e26397cc",
   "metadata": {
    "execution": {
     "iopub.execute_input": "2023-08-29T05:58:23.573637Z",
     "iopub.status.busy": "2023-08-29T05:58:23.572868Z",
     "iopub.status.idle": "2023-08-29T05:58:23.588678Z",
     "shell.execute_reply": "2023-08-29T05:58:23.587277Z"
    },
    "papermill": {
     "duration": 0.024687,
     "end_time": "2023-08-29T05:58:23.590891",
     "exception": false,
     "start_time": "2023-08-29T05:58:23.566204",
     "status": "completed"
    },
    "tags": []
   },
   "outputs": [
    {
     "name": "stdout",
     "output_type": "stream",
     "text": [
      "b    1.0\n",
      "c    2.0\n",
      "d    NaN\n",
      "a    0.0\n",
      "dtype: float64\n"
     ]
    }
   ],
   "source": [
    "d = {\"a\": 0.0, \"b\": 1.0, \"c\": 2.0}\n",
    "s = pd.Series(d, index=[\"b\", \"c\", \"d\", \"a\"])\n",
    "print(s)"
   ]
  },
  {
   "cell_type": "markdown",
   "id": "3938ca37",
   "metadata": {
    "papermill": {
     "duration": 0.004944,
     "end_time": "2023-08-29T05:58:23.601129",
     "exception": false,
     "start_time": "2023-08-29T05:58:23.596185",
     "status": "completed"
    },
    "tags": []
   },
   "source": [
    "Here for index *d* it will assign *NaN* as there is no value assigned to the key *d*.\n",
    "\n",
    "#### From Scalar Values"
   ]
  },
  {
   "cell_type": "code",
   "execution_count": 7,
   "id": "751a3b35",
   "metadata": {
    "execution": {
     "iopub.execute_input": "2023-08-29T05:58:23.614165Z",
     "iopub.status.busy": "2023-08-29T05:58:23.613321Z",
     "iopub.status.idle": "2023-08-29T05:58:23.620128Z",
     "shell.execute_reply": "2023-08-29T05:58:23.619333Z"
    },
    "papermill": {
     "duration": 0.015433,
     "end_time": "2023-08-29T05:58:23.622267",
     "exception": false,
     "start_time": "2023-08-29T05:58:23.606834",
     "status": "completed"
    },
    "tags": []
   },
   "outputs": [
    {
     "name": "stdout",
     "output_type": "stream",
     "text": [
      "a    5.0\n",
      "b    5.0\n",
      "c    5.0\n",
      "d    5.0\n",
      "e    5.0\n",
      "dtype: float64\n"
     ]
    }
   ],
   "source": [
    "s = pd.Series(5.0, index=[\"a\", \"b\", \"c\", \"d\", \"e\"])\n",
    "print(s)"
   ]
  },
  {
   "cell_type": "markdown",
   "id": "bb5a5d1b",
   "metadata": {
    "papermill": {
     "duration": 0.004911,
     "end_time": "2023-08-29T05:58:23.632617",
     "exception": false,
     "start_time": "2023-08-29T05:58:23.627706",
     "status": "completed"
    },
    "tags": []
   },
   "source": [
    "<a id=\"accessing_series\"></a> <br>\n",
    "### Accessing pandas Series\n",
    "Series acts very similarly to a ndarray, and is a valid argument to most NumPy functions. "
   ]
  },
  {
   "cell_type": "code",
   "execution_count": 8,
   "id": "7c146577",
   "metadata": {
    "execution": {
     "iopub.execute_input": "2023-08-29T05:58:23.644466Z",
     "iopub.status.busy": "2023-08-29T05:58:23.644063Z",
     "iopub.status.idle": "2023-08-29T05:58:23.651715Z",
     "shell.execute_reply": "2023-08-29T05:58:23.650427Z"
    },
    "papermill": {
     "duration": 0.016272,
     "end_time": "2023-08-29T05:58:23.654021",
     "exception": false,
     "start_time": "2023-08-29T05:58:23.637749",
     "status": "completed"
    },
    "tags": []
   },
   "outputs": [
    {
     "name": "stdout",
     "output_type": "stream",
     "text": [
      "Series s:\n",
      " a    0.005184\n",
      "b   -1.013098\n",
      "c    0.276929\n",
      "d   -0.882244\n",
      "e   -0.700142\n",
      "f   -0.742797\n",
      "g   -1.231968\n",
      "dtype: float64\n",
      "\n",
      "s[0]:  0.005183696866060968\n"
     ]
    }
   ],
   "source": [
    "s = pd.Series(np.random.randn(7), index=[\"a\", \"b\", \"c\", \"d\", \"e\", \"f\", \"g\"])\n",
    "#s = pd.Series(np.random.randn(10))             # Integer index\n",
    "print(\"Series s:\\n\", s)\n",
    "print(\"\\ns[0]: \", s[0])"
   ]
  },
  {
   "cell_type": "markdown",
   "id": "a8d8f9d5",
   "metadata": {
    "papermill": {
     "duration": 0.005088,
     "end_time": "2023-08-29T05:58:23.664551",
     "exception": false,
     "start_time": "2023-08-29T05:58:23.659463",
     "status": "completed"
    },
    "tags": []
   },
   "source": [
    "However, operations such as slicing will also slice the index."
   ]
  },
  {
   "cell_type": "code",
   "execution_count": 9,
   "id": "18f596d3",
   "metadata": {
    "execution": {
     "iopub.execute_input": "2023-08-29T05:58:23.677471Z",
     "iopub.status.busy": "2023-08-29T05:58:23.676426Z",
     "iopub.status.idle": "2023-08-29T05:58:23.683060Z",
     "shell.execute_reply": "2023-08-29T05:58:23.681934Z"
    },
    "papermill": {
     "duration": 0.015449,
     "end_time": "2023-08-29T05:58:23.685348",
     "exception": false,
     "start_time": "2023-08-29T05:58:23.669899",
     "status": "completed"
    },
    "tags": []
   },
   "outputs": [
    {
     "name": "stdout",
     "output_type": "stream",
     "text": [
      "s[:3]:  a    0.005184\n",
      "b   -1.013098\n",
      "c    0.276929\n",
      "dtype: float64\n"
     ]
    }
   ],
   "source": [
    "print(\"s[:3]: \", s[:3])"
   ]
  },
  {
   "cell_type": "code",
   "execution_count": 10,
   "id": "ae020ba7",
   "metadata": {
    "execution": {
     "iopub.execute_input": "2023-08-29T05:58:23.698254Z",
     "iopub.status.busy": "2023-08-29T05:58:23.697519Z",
     "iopub.status.idle": "2023-08-29T05:58:23.704828Z",
     "shell.execute_reply": "2023-08-29T05:58:23.703514Z"
    },
    "papermill": {
     "duration": 0.016373,
     "end_time": "2023-08-29T05:58:23.707111",
     "exception": false,
     "start_time": "2023-08-29T05:58:23.690738",
     "status": "completed"
    },
    "tags": []
   },
   "outputs": [
    {
     "name": "stdout",
     "output_type": "stream",
     "text": [
      "s[[6, 4, 1]]: \n",
      " g   -1.231968\n",
      "e   -0.700142\n",
      "b   -1.013098\n",
      "dtype: float64\n"
     ]
    }
   ],
   "source": [
    "print(\"s[[6, 4, 1]]: \\n\", s[[6, 4, 1]])"
   ]
  },
  {
   "cell_type": "code",
   "execution_count": null,
   "id": "160c254e",
   "metadata": {
    "papermill": {
     "duration": 0.005219,
     "end_time": "2023-08-29T05:58:23.717811",
     "exception": false,
     "start_time": "2023-08-29T05:58:23.712592",
     "status": "completed"
    },
    "tags": []
   },
   "outputs": [],
   "source": []
  }
 ],
 "metadata": {
  "kernelspec": {
   "display_name": "Python 3",
   "language": "python",
   "name": "python3"
  },
  "language_info": {
   "codemirror_mode": {
    "name": "ipython",
    "version": 3
   },
   "file_extension": ".py",
   "mimetype": "text/x-python",
   "name": "python",
   "nbconvert_exporter": "python",
   "pygments_lexer": "ipython3",
   "version": "3.10.12"
  },
  "papermill": {
   "default_parameters": {},
   "duration": 10.754907,
   "end_time": "2023-08-29T05:58:24.545823",
   "environment_variables": {},
   "exception": null,
   "input_path": "__notebook__.ipynb",
   "output_path": "__notebook__.ipynb",
   "parameters": {},
   "start_time": "2023-08-29T05:58:13.790916",
   "version": "2.4.0"
  }
 },
 "nbformat": 4,
 "nbformat_minor": 5
}
